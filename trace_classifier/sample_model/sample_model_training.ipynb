{
 "cells": [
  {
   "cell_type": "markdown",
   "metadata": {},
   "source": [
    "# Sample Model – Training"
   ]
  },
  {
   "cell_type": "markdown",
   "metadata": {},
   "source": [
    "The following script demonstrates how to train a model.\n",
    "\n",
    "For this example, let's assume...\n",
    "\n",
    "1. We want to train a classifier for the modality of a trace.\n",
    "\n",
    "2. There are two data sources.\n",
    "  - Source A: traces may or may not be unique. \n",
    "  - Source B: traces are unique.\n",
    "\n",
    "3. We're re-training a model.\n",
    "  - A model was trained and tested. We want to add the false predictions from the test set to our training data and re-train a model. This process is analogous to hard negative mining in computer vision projects.\n",
    "  - We re-training the model starting from random weights.\n",
    "  \n",
    "4. Traces are stored in multiple line-delimited json files.\n",
    "  - Each line in a file is a GeoJSON LineString feature (a trace)."
   ]
  },
  {
   "cell_type": "code",
   "execution_count": 1,
   "metadata": {},
   "outputs": [],
   "source": [
    "# Print all lines in a jupyter notebook cell\n",
    "from IPython.core.interactiveshell import InteractiveShell\n",
    "InteractiveShell.ast_node_interactivity = \"all\" "
   ]
  },
  {
   "cell_type": "markdown",
   "metadata": {},
   "source": [
    "## Environment Setup"
   ]
  },
  {
   "cell_type": "markdown",
   "metadata": {},
   "source": [
    "### Start Spark Session"
   ]
  },
  {
   "cell_type": "code",
   "execution_count": 2,
   "metadata": {},
   "outputs": [
    {
     "name": "stdout",
     "output_type": "stream",
     "text": [
      "4 cores, 4.1 GB memory\n"
     ]
    }
   ],
   "source": [
    "import os\n",
    "import psutil\n",
    "\n",
    "gb = 1024 * 1024 * 1024\n",
    "num_cores = psutil.cpu_count()\n",
    "gb_memory = round(psutil.virtual_memory().free / gb, 1)\n",
    "print(str(num_cores) + ' cores, ' + str(gb_memory) + ' GB memory')"
   ]
  },
  {
   "cell_type": "code",
   "execution_count": 3,
   "metadata": {},
   "outputs": [],
   "source": [
    "num_parallelism = num_cores * 4"
   ]
  },
  {
   "cell_type": "code",
   "execution_count": 4,
   "metadata": {},
   "outputs": [
    {
     "data": {
      "text/plain": [
       "'2.3.1'"
      ]
     },
     "execution_count": 4,
     "metadata": {},
     "output_type": "execute_result"
    }
   ],
   "source": [
    "import findspark\n",
    "findspark.init()\n",
    "\n",
    "import pyspark\n",
    "\n",
    "pyspark.__version__"
   ]
  },
  {
   "cell_type": "code",
   "execution_count": 5,
   "metadata": {},
   "outputs": [
    {
     "name": "stderr",
     "output_type": "stream",
     "text": [
      "Welcome to\n",
      "      ____              __\n",
      "     / __/__  ___ _____/ /__\n",
      "    _\\ \\/ _ \\/ _ `/ __/  '_/\n",
      "   /___/ .__/\\_,_/_/ /_/\\_\\   version 2.3.1\n",
      "      /_/\n",
      "                        \n",
      "Using Scala version 2.11.8, Java HotSpot(TM) 64-Bit Server VM, 1.8.0_92\n",
      "Branch \n",
      "Compiled by user vanzin on 2018-06-01T20:37:04Z\n",
      "Revision \n",
      "Url \n",
      "Type --help for more information.\n"
     ]
    }
   ],
   "source": [
    "%%bash\n",
    "spark-shell --version"
   ]
  },
  {
   "cell_type": "code",
   "execution_count": 6,
   "metadata": {},
   "outputs": [],
   "source": [
    "# Create spark session\n",
    "from pyspark.sql import SparkSession\n",
    "\n",
    "spark = SparkSession.builder \\\n",
    "        .master(\"local[*]\") \\\n",
    "        .appName(\"Sample Model Training\") \\\n",
    "        .config('spark.jars.packages', 'databricks:tensorframes:0.5.0-s_2.11') \\\n",
    "        .config('spark.sql.codegen.wholeStage', False) \\\n",
    "        .config(\"spark.sql.caseSensitive\", True) \\\n",
    "        .config(\"spark.default.parallelism\", num_parallelism) \\\n",
    "        .config(\"spark.sql.shuffle.partitions\", num_parallelism) \\\n",
    "        .getOrCreate()"
   ]
  },
  {
   "cell_type": "code",
   "execution_count": 7,
   "metadata": {},
   "outputs": [
    {
     "data": {
      "text/html": [
       "\n",
       "            <div>\n",
       "                <p><b>SparkSession - in-memory</b></p>\n",
       "                \n",
       "        <div>\n",
       "            <p><b>SparkContext</b></p>\n",
       "\n",
       "            <p><a href=\"http://192.168.130.39:4040\">Spark UI</a></p>\n",
       "\n",
       "            <dl>\n",
       "              <dt>Version</dt>\n",
       "                <dd><code>v2.3.1</code></dd>\n",
       "              <dt>Master</dt>\n",
       "                <dd><code>local[*]</code></dd>\n",
       "              <dt>AppName</dt>\n",
       "                <dd><code>Sample Model Training</code></dd>\n",
       "            </dl>\n",
       "        </div>\n",
       "        \n",
       "            </div>\n",
       "        "
      ],
      "text/plain": [
       "<pyspark.sql.session.SparkSession at 0x105eae128>"
      ]
     },
     "execution_count": 7,
     "metadata": {},
     "output_type": "execute_result"
    }
   ],
   "source": [
    "# Use the Spark UI to kill tasks\n",
    "spark"
   ]
  },
  {
   "cell_type": "markdown",
   "metadata": {},
   "source": [
    "### Check Keras and Tensorflow version"
   ]
  },
  {
   "cell_type": "code",
   "execution_count": 8,
   "metadata": {},
   "outputs": [
    {
     "name": "stderr",
     "output_type": "stream",
     "text": [
      "Using TensorFlow backend.\n"
     ]
    }
   ],
   "source": [
    "import keras\n",
    "import tensorflow as tf\n",
    "import keras.backend as K"
   ]
  },
  {
   "cell_type": "code",
   "execution_count": 9,
   "metadata": {},
   "outputs": [
    {
     "data": {
      "text/plain": [
       "'2.2.2'"
      ]
     },
     "execution_count": 9,
     "metadata": {},
     "output_type": "execute_result"
    },
    {
     "data": {
      "text/plain": [
       "'1.10.0'"
      ]
     },
     "execution_count": 9,
     "metadata": {},
     "output_type": "execute_result"
    }
   ],
   "source": [
    "# Check version: must use keras >2.2.1 for StatefulMetrics, tf 1.10.0 for tensorframes 0.5.0\n",
    "keras.__version__\n",
    "tf.__version__"
   ]
  },
  {
   "cell_type": "code",
   "execution_count": 10,
   "metadata": {},
   "outputs": [
    {
     "name": "stdout",
     "output_type": "stream",
     "text": [
      "Help on package tensorframes:\n",
      "\n",
      "NAME\n",
      "    tensorframes - TensorFrames, a TensorFlow binding library for Scala/Spark.\n",
      "\n",
      "DESCRIPTION\n",
      "    This modules provides methods to manipulate Spark DataFrames with TensorFlow numerical graphs.\n",
      "    \n",
      "    Core API\n",
      "    --------\n",
      "    \n",
      "    The API lets users manipulate Spark dataframes using standard big data operations such as map,\n",
      "    reduce and aggregate. These operations come usually in two flavors: block and row. In a block\n",
      "    operation, multiple rows of data are manipulated at once (and the TensorFlow program that\n",
      "    expresses this transformation must accept these blocks). In a row operation, each row is processed\n",
      "    one at a time.\n",
      "    \n",
      "    The most important operations available in this module are:\n",
      "    \n",
      "     - map_rows: adds extra columns one row at time\n",
      "     - map_blocks: adds extra columns block by block\n",
      "     - reduce_rows: applies a transform on pairs of rows until one row is left\n",
      "     - reduce_blocks: applies a transform on blocks or rows until one row is left\n",
      "     - aggregate: performs aggregation of blocks of rows based on a key index\n",
      "    \n",
      "    TensorFrames needs sometimes some extra information about the shape of the numerical tensors in the\n",
      "    dataframe. These two methods extract and query this information:\n",
      "    \n",
      "     - analyze: perform an shape analysis of all the numerical data in a dataframe\n",
      "     - print_schema: prints the schema of a dataframe, with extra numerical information\n",
      "    \n",
      "    Each method contains extensive documentation about their usage. More documentation can be found\n",
      "    on the project wiki.\n",
      "\n",
      "PACKAGE CONTENTS\n",
      "    core\n",
      "    core_test\n",
      "    shape_infer\n",
      "\n",
      "DATA\n",
      "    absolute_import = _Feature((2, 5, 0, 'alpha', 1), (3, 0, 0, 'alpha', 0...\n",
      "\n",
      "VERSION\n",
      "    2.0.0\n",
      "\n",
      "FILE\n",
      "    /private/var/folders/h7/hpr_ksr949gc3c9sflphfspw0000gn/T/spark-5dba6fb7-3b70-47d4-89f2-0e118a415c21/userFiles-2eb89ea9-388d-45c1-8e72-d3ab87047275/databricks_tensorframes-0.5.0-s_2.11.jar/tensorframes/__init__.py\n",
      "\n",
      "\n"
     ]
    }
   ],
   "source": [
    "# Check tensorframes python bining (scroll down to FILE section): must use the python package inside databricks_tensorframes-0.5.0-s_2.11.jar\n",
    "help('tensorframes')"
   ]
  },
  {
   "cell_type": "markdown",
   "metadata": {},
   "source": [
    "### Load dependencies"
   ]
  },
  {
   "cell_type": "code",
   "execution_count": 11,
   "metadata": {},
   "outputs": [],
   "source": [
    "# Plot prettier confusion matrices with Seaborn (`pip install seaborn` if not already installed).\n",
    "import seaborn as sns\n",
    "sns.set_style('whitegrid', {'axes.grid' : False})"
   ]
  },
  {
   "cell_type": "code",
   "execution_count": 12,
   "metadata": {
    "scrolled": true
   },
   "outputs": [],
   "source": [
    "# Trace classifier functions\n",
    "from trace_classifier.config import load_config\n",
    "from trace_classifier.utils import getGeojsonSchema\n",
    "from trace_classifier.train import compute_class_weight\n",
    "from trace_classifier.preprocessing import include_id_and_label\n",
    "from trace_classifier.preprocessing import preprocessing_part1\n",
    "from trace_classifier.preprocessing import preprocessing_part2\n",
    "from trace_classifier.preprocessing import preprocessing_part3\n",
    "from trace_classifier.architecture import architecture\n",
    "from trace_classifier.cross_validation import k_fold_CV\n",
    "from trace_classifier.cross_validation import summarize_performance\n",
    "from trace_classifier.save import save_model\n",
    "from trace_classifier.load import get_metadata\n",
    "from trace_classifier.load import load_model\n",
    "from trace_classifier.load import load_model_metadata\n",
    "from trace_classifier.evaluate import confusion_matrix\n",
    "from trace_classifier.evaluate import plot_confusion_matrix\n",
    "from trace_classifier.infer import infer\n",
    "from trace_classifier.infer import avg_probability\n",
    "from trace_classifier.write import write_traces\n",
    "from trace_classifier.write import write_dataframe\n",
    "from trace_classifier.read import read_dataframe\n",
    "from trace_classifier.utils import random_int_column"
   ]
  },
  {
   "cell_type": "markdown",
   "metadata": {},
   "source": [
    "## Load Data"
   ]
  },
  {
   "cell_type": "markdown",
   "metadata": {},
   "source": [
    "We want to all the data first into two sets:\n",
    "- A train-val set, which later will be further split into a training set and a validation set.\n",
    "- A hold-out test set, which is reserved for final testing. Once tested on a model, this test set is no longer usable as a test set (but can still be used as a validation set).\n",
    "\n",
    "Depending on the problem, we might be able split data based on source (e.g. train-val set consists of Source A traces only, test set contains Source B traces only). \n",
    "\n",
    "Let's assume that our problem requires that both sets to contain traces from all sources."
   ]
  },
  {
   "cell_type": "code",
   "execution_count": 13,
   "metadata": {},
   "outputs": [],
   "source": [
    "from pyspark.sql.functions import lit"
   ]
  },
  {
   "cell_type": "code",
   "execution_count": 14,
   "metadata": {},
   "outputs": [],
   "source": [
    "schema = getGeojsonSchema()"
   ]
  },
  {
   "cell_type": "markdown",
   "metadata": {},
   "source": [
    "### Load Traces from Source A"
   ]
  },
  {
   "cell_type": "markdown",
   "metadata": {},
   "source": [
    "Source A may contain duplicate traces. We cannot randomly shuffle and split the traces into a train-val set and a test set, because it's possible that the test set will contain traces that are identical to traces in the training set. This is a form of data leakage. \n",
    "\n",
    "We must split the traces by one or more properties that guarantee duplicate traces are assigned to the same set. Some examples are\n",
    "\n",
    "- longitude (any trace within this longitude range is reserved as the test set; everything else belongs to the train-val set)\n",
    "- latitude (any trace within this latitude range is reserved as the test set; everything else belongs to the train-val set)\n",
    "- altitude (any trace within this altitude range is reserved as the test set; everything else belongs to the train-val set)\n",
    "- timestamp (any trace within this time range is reserved as the test set; everything else belongs to the train-val set)\n",
    "- ...etc.\n",
    "\n",
    "Note that even though all these prevents data leakage, not all make sense for the given problem.\n",
    "\n",
    "\n",
    "Let's assume that we've already manually split the traces from Source A into two sets, each stored in its own directory."
   ]
  },
  {
   "cell_type": "code",
   "execution_count": 15,
   "metadata": {},
   "outputs": [],
   "source": [
    "# The dataset is saved as multiple json files\n",
    "source_A_trn = spark.read.json('../../../trace-classifier-data/source_A_trn/*', schema=schema) \\\n",
    "                    .withColumn('source', lit('Source A'))\n",
    "\n",
    "source_A_tst = spark.read.json('../../../trace-classifier-data/source_A_tst/*', schema=schema) \\\n",
    "                    .withColumn('source', lit('Source A'))"
   ]
  },
  {
   "cell_type": "code",
   "execution_count": 16,
   "metadata": {},
   "outputs": [
    {
     "name": "stdout",
     "output_type": "stream",
     "text": [
      "root\n",
      " |-- geometry: struct (nullable = true)\n",
      " |    |-- coordinates: array (nullable = true)\n",
      " |    |    |-- element: array (containsNull = true)\n",
      " |    |    |    |-- element: double (containsNull = true)\n",
      " |    |-- type: string (nullable = true)\n",
      " |-- properties: struct (nullable = true)\n",
      " |    |-- modality: string (nullable = true)\n",
      " |-- type: string (nullable = true)\n",
      " |-- source: string (nullable = false)\n",
      "\n"
     ]
    }
   ],
   "source": [
    "# Show dataframe schema\n",
    "source_A_trn.printSchema()"
   ]
  },
  {
   "cell_type": "code",
   "execution_count": 17,
   "metadata": {},
   "outputs": [
    {
     "data": {
      "text/plain": [
       "24671"
      ]
     },
     "execution_count": 17,
     "metadata": {},
     "output_type": "execute_result"
    },
    {
     "name": "stdout",
     "output_type": "stream",
     "text": [
      "+-----------+-----+\n",
      "|   modality|count|\n",
      "+-----------+-----+\n",
      "|Not Driving| 7005|\n",
      "|      Noise| 5135|\n",
      "|    Driving| 1974|\n",
      "|      Dunno|10557|\n",
      "+-----------+-----+\n",
      "\n"
     ]
    }
   ],
   "source": [
    "# Stats on trace count in train-val set\n",
    "source_A_trn.count()\n",
    "source_A_trn.groupby('properties.modality').count().show()"
   ]
  },
  {
   "cell_type": "code",
   "execution_count": 18,
   "metadata": {},
   "outputs": [
    {
     "data": {
      "text/plain": [
       "2642"
      ]
     },
     "execution_count": 18,
     "metadata": {},
     "output_type": "execute_result"
    },
    {
     "name": "stdout",
     "output_type": "stream",
     "text": [
      "+-----------+-----+\n",
      "|   modality|count|\n",
      "+-----------+-----+\n",
      "|Not Driving|  779|\n",
      "|      Noise|  454|\n",
      "|    Driving|  190|\n",
      "|      Dunno| 1219|\n",
      "+-----------+-----+\n",
      "\n"
     ]
    }
   ],
   "source": [
    "# Stats on trace count in test test\n",
    "source_A_tst.count()\n",
    "source_A_tst.groupby('properties.modality').count().show()"
   ]
  },
  {
   "cell_type": "markdown",
   "metadata": {},
   "source": [
    "The only data trace-classifier needs to train a model are \n",
    "- coordinates, which must be stored in a column named `coordinates`. \n",
    "- the class of each trace, which in our example is the modality.\n",
    "\n",
    "To reduce amount of data that we need to serialize and copied in spark, let's select only the columns trace-classifier need.\n",
    "\n",
    "As an example, let's also assume we only want to train a classifier that can infer 3 out of the 4 available classes."
   ]
  },
  {
   "cell_type": "code",
   "execution_count": 19,
   "metadata": {},
   "outputs": [],
   "source": [
    "# Select only relevant data\n",
    "relevant_fields = ['geometry.coordinates', 'properties.modality', 'source']\n",
    "condition = 'properties.modality == \"Driving\" OR ' + \\\n",
    "            'properties.modality == \"Not Driving\" OR ' + \\\n",
    "            'properties.modality == \"Noise\"'\n",
    "\n",
    "source_A_trn = source_A_trn.select(relevant_fields) \\\n",
    "                           .where(condition)\n",
    "\n",
    "source_A_tst = source_A_tst.select(relevant_fields) \\\n",
    "                           .where(condition)"
   ]
  },
  {
   "cell_type": "code",
   "execution_count": 20,
   "metadata": {},
   "outputs": [
    {
     "name": "stdout",
     "output_type": "stream",
     "text": [
      "root\n",
      " |-- coordinates: array (nullable = true)\n",
      " |    |-- element: array (containsNull = true)\n",
      " |    |    |-- element: double (containsNull = true)\n",
      " |-- modality: string (nullable = true)\n",
      " |-- source: string (nullable = false)\n",
      "\n"
     ]
    },
    {
     "data": {
      "text/plain": [
       "14114"
      ]
     },
     "execution_count": 20,
     "metadata": {},
     "output_type": "execute_result"
    },
    {
     "data": {
      "text/plain": [
       "1423"
      ]
     },
     "execution_count": 20,
     "metadata": {},
     "output_type": "execute_result"
    }
   ],
   "source": [
    "# Print new schema and trace counts\n",
    "source_A_trn.printSchema()\n",
    "source_A_trn.count()\n",
    "source_A_tst.count()"
   ]
  },
  {
   "cell_type": "markdown",
   "metadata": {},
   "source": [
    "### Load Traces from Source B"
   ]
  },
  {
   "cell_type": "markdown",
   "metadata": {},
   "source": [
    "Source B contains only unique traces. We can therefore do a simple random shuffle and then split the data into two sets."
   ]
  },
  {
   "cell_type": "code",
   "execution_count": 21,
   "metadata": {},
   "outputs": [],
   "source": [
    "source_B = spark.read.json('../../../trace-classifier-data/source_B/*', schema=schema) \\\n",
    "                .withColumn('source', lit('Source B'))"
   ]
  },
  {
   "cell_type": "code",
   "execution_count": 22,
   "metadata": {},
   "outputs": [
    {
     "name": "stdout",
     "output_type": "stream",
     "text": [
      "root\n",
      " |-- geometry: struct (nullable = true)\n",
      " |    |-- coordinates: array (nullable = true)\n",
      " |    |    |-- element: array (containsNull = true)\n",
      " |    |    |    |-- element: double (containsNull = true)\n",
      " |    |-- type: string (nullable = true)\n",
      " |-- properties: struct (nullable = true)\n",
      " |    |-- modality: string (nullable = true)\n",
      " |-- type: string (nullable = true)\n",
      " |-- source: string (nullable = false)\n",
      "\n"
     ]
    }
   ],
   "source": [
    "# Print schema\n",
    "source_B.printSchema()"
   ]
  },
  {
   "cell_type": "code",
   "execution_count": 23,
   "metadata": {},
   "outputs": [
    {
     "data": {
      "text/plain": [
       "4000"
      ]
     },
     "execution_count": 23,
     "metadata": {},
     "output_type": "execute_result"
    },
    {
     "name": "stdout",
     "output_type": "stream",
     "text": [
      "+--------+-----+\n",
      "|modality|count|\n",
      "+--------+-----+\n",
      "|    null| 4000|\n",
      "+--------+-----+\n",
      "\n"
     ]
    }
   ],
   "source": [
    "# Print stats on trace count\n",
    "source_B.count()\n",
    "source_B.groupby('properties.modality').count().show()"
   ]
  },
  {
   "cell_type": "markdown",
   "metadata": {},
   "source": [
    "Looks like modality is missing from the json files. For simplicity, let's assume we know what devices were used to collect these traces, and so we know what their modalities are; we just need to add this information to this dataframe. \n",
    "\n",
    "For simplicity, let's assume traces from source B are all of the same modality, say, `Driving`."
   ]
  },
  {
   "cell_type": "code",
   "execution_count": 24,
   "metadata": {},
   "outputs": [
    {
     "name": "stdout",
     "output_type": "stream",
     "text": [
      "+--------+-----+\n",
      "|modality|count|\n",
      "+--------+-----+\n",
      "|    null| 4000|\n",
      "+--------+-----+\n",
      "\n"
     ]
    }
   ],
   "source": [
    "source_B = source_B.withColumn('modality', lit('Driving'))\n",
    "source_B.groupby('properties.modality').count().show()"
   ]
  },
  {
   "cell_type": "code",
   "execution_count": 25,
   "metadata": {},
   "outputs": [],
   "source": [
    "# Downsample source_B to create a more balanced dataset. This is not required in the current example, \n",
    "# but leaving the code here in case someone needs it.\n",
    "\n",
    "target = 4000\n",
    "\n",
    "if (source_B.count() > target):\n",
    "    fraction = float(target) / source_B.count()\n",
    "    source_B = source_B.sample(withReplacement=False, fraction=fraction)\n",
    "\n",
    "    source_B.count()"
   ]
  },
  {
   "cell_type": "code",
   "execution_count": 26,
   "metadata": {},
   "outputs": [],
   "source": [
    "# Randomly assigns traces to a set by re-using the functions designed for k-fold cross validation.\n",
    "\n",
    "# Let's say we want to reserve 10% of the traces from Source B as the hold-out test set.\n",
    "# First randomly assigns each trace an integer in [0, 10)\n",
    "source_B = random_int_column(source_B, 0, 10, 'fold')\n",
    "\n",
    "# Select all the traces with integer greater than 0 – let this be the train-val set.\n",
    "source_B_trn = source_B.where('fold != 0')\n",
    "\n",
    "# Select all the traces with integer 0 – let this be the test set.\n",
    "source_B_tst = source_B.where('fold == 0')"
   ]
  },
  {
   "cell_type": "code",
   "execution_count": 27,
   "metadata": {},
   "outputs": [],
   "source": [
    "# Select only the columns trace-classifier needs\n",
    "relevant_fields = ['geometry.coordinates', 'modality', 'source']\n",
    "source_B_trn = source_B_trn.select(relevant_fields)\n",
    "source_B_tst = source_B_tst.select(relevant_fields)"
   ]
  },
  {
   "cell_type": "code",
   "execution_count": 28,
   "metadata": {},
   "outputs": [
    {
     "name": "stdout",
     "output_type": "stream",
     "text": [
      "root\n",
      " |-- coordinates: array (nullable = true)\n",
      " |    |-- element: array (containsNull = true)\n",
      " |    |    |-- element: double (containsNull = true)\n",
      " |-- modality: string (nullable = false)\n",
      " |-- source: string (nullable = false)\n",
      "\n"
     ]
    },
    {
     "data": {
      "text/plain": [
       "3568"
      ]
     },
     "execution_count": 28,
     "metadata": {},
     "output_type": "execute_result"
    },
    {
     "data": {
      "text/plain": [
       "432"
      ]
     },
     "execution_count": 28,
     "metadata": {},
     "output_type": "execute_result"
    }
   ],
   "source": [
    "# Print schema and trace count stats\n",
    "source_B_trn.printSchema()\n",
    "source_B_trn.count()\n",
    "source_B_tst.count()"
   ]
  },
  {
   "cell_type": "markdown",
   "metadata": {},
   "source": [
    "### Load Traces that were Falsely Predicted"
   ]
  },
  {
   "cell_type": "markdown",
   "metadata": {},
   "source": [
    "There are the traces that were falsely predicted (predicted modality is not the true modality) by the previous model. We want to add all these traces into the train-val set so that the new model learns these tricky edge cases; therefore, there's no need to split this set into train-val and test.\n",
    "\n",
    "For simplicity, let's again all these traces have the same (true) modality. For the sake of demonstrating how to use class weight in model training, let's assume the modalit is also `Driving`, so our final training set will be dominated by driving traces."
   ]
  },
  {
   "cell_type": "code",
   "execution_count": 29,
   "metadata": {},
   "outputs": [],
   "source": [
    "file_path = '../../../trace-classifier-data/falsely_predicted/*'\n",
    "falsely_predicted = spark.read.json(file_path, schema=schema) \\\n",
    "                         .withColumn('modality', lit('Driving')) \\\n",
    "                         .withColumn('source', lit('Falsely Predicted')) \\\n",
    "                         .select(['geometry.coordinates', 'modality', 'source'])"
   ]
  },
  {
   "cell_type": "code",
   "execution_count": 30,
   "metadata": {},
   "outputs": [
    {
     "name": "stdout",
     "output_type": "stream",
     "text": [
      "root\n",
      " |-- coordinates: array (nullable = true)\n",
      " |    |-- element: array (containsNull = true)\n",
      " |    |    |-- element: double (containsNull = true)\n",
      " |-- modality: string (nullable = false)\n",
      " |-- source: string (nullable = false)\n",
      "\n"
     ]
    },
    {
     "data": {
      "text/plain": [
       "8799"
      ]
     },
     "execution_count": 30,
     "metadata": {},
     "output_type": "execute_result"
    },
    {
     "name": "stdout",
     "output_type": "stream",
     "text": [
      "+--------+-----+\n",
      "|modality|count|\n",
      "+--------+-----+\n",
      "| Driving| 8799|\n",
      "+--------+-----+\n",
      "\n"
     ]
    }
   ],
   "source": [
    "# Print schema and trace count stats   \n",
    "falsely_predicted.printSchema()\n",
    "falsely_predicted.count()\n",
    "falsely_predicted.groupby('modality').count().show()"
   ]
  },
  {
   "cell_type": "markdown",
   "metadata": {},
   "source": [
    "### Concatenate"
   ]
  },
  {
   "cell_type": "markdown",
   "metadata": {},
   "source": [
    "So the final datasets are:\n",
    "- train-val set = {Source A train-val set, Source B train-val set, falsely predicted traces}\n",
    "- test set = {Source B train-val set, Source B train-val set}"
   ]
  },
  {
   "cell_type": "code",
   "execution_count": 31,
   "metadata": {},
   "outputs": [],
   "source": [
    "# Concatenate\n",
    "final_trn = source_A_trn.unionByName(source_B_trn) \\\n",
    "                        .unionByName(falsely_predicted)\n",
    "final_tst = source_A_tst.unionByName(source_B_tst)"
   ]
  },
  {
   "cell_type": "code",
   "execution_count": 32,
   "metadata": {},
   "outputs": [
    {
     "name": "stdout",
     "output_type": "stream",
     "text": [
      "root\n",
      " |-- coordinates: array (nullable = true)\n",
      " |    |-- element: array (containsNull = true)\n",
      " |    |    |-- element: double (containsNull = true)\n",
      " |-- modality: string (nullable = true)\n",
      " |-- source: string (nullable = false)\n",
      "\n"
     ]
    },
    {
     "data": {
      "text/plain": [
       "26481"
      ]
     },
     "execution_count": 32,
     "metadata": {},
     "output_type": "execute_result"
    },
    {
     "data": {
      "text/plain": [
       "1855"
      ]
     },
     "execution_count": 32,
     "metadata": {},
     "output_type": "execute_result"
    }
   ],
   "source": [
    "# Print schema and trace count stats\n",
    "final_trn.printSchema()\n",
    "final_trn.count()\n",
    "final_tst.count()"
   ]
  },
  {
   "cell_type": "code",
   "execution_count": 33,
   "metadata": {},
   "outputs": [
    {
     "name": "stdout",
     "output_type": "stream",
     "text": [
      "+--------------------+-----------+--------+\n",
      "|         coordinates|   modality|  source|\n",
      "+--------------------+-----------+--------+\n",
      "|[[2.3543564, 48.8...|    Driving|Source A|\n",
      "|[[2.3449379, 48.8...|    Driving|Source A|\n",
      "|[[2.3325944, 48.8...|Not Driving|Source A|\n",
      "+--------------------+-----------+--------+\n",
      "only showing top 3 rows\n",
      "\n"
     ]
    }
   ],
   "source": [
    "# Show 3 rows as example\n",
    "final_trn.show(3)"
   ]
  },
  {
   "cell_type": "code",
   "execution_count": 34,
   "metadata": {},
   "outputs": [
    {
     "name": "stdout",
     "output_type": "stream",
     "text": [
      "+-----------------+-----------+-----+\n",
      "|           source|   modality|count|\n",
      "+-----------------+-----------+-----+\n",
      "|         Source A|      Noise| 5135|\n",
      "|         Source A|Not Driving| 7005|\n",
      "|         Source A|    Driving| 1974|\n",
      "|         Source B|    Driving| 3568|\n",
      "|Falsely Predicted|    Driving| 8799|\n",
      "+-----------------+-----------+-----+\n",
      "\n"
     ]
    }
   ],
   "source": [
    "# Show breakdown of traces in the train-val set\n",
    "final_trn.groupBy('source', 'modality').count().show()"
   ]
  },
  {
   "cell_type": "code",
   "execution_count": 35,
   "metadata": {},
   "outputs": [
    {
     "name": "stdout",
     "output_type": "stream",
     "text": [
      "+--------+-----------+-----+\n",
      "|  source|   modality|count|\n",
      "+--------+-----------+-----+\n",
      "|Source A|      Noise|  454|\n",
      "|Source A|Not Driving|  779|\n",
      "|Source A|    Driving|  190|\n",
      "|Source B|    Driving|  432|\n",
      "+--------+-----------+-----+\n",
      "\n"
     ]
    }
   ],
   "source": [
    "# Show breakdown of traces in the test set\n",
    "final_tst.groupBy('source', 'modality').count().show()"
   ]
  },
  {
   "cell_type": "markdown",
   "metadata": {},
   "source": [
    "## Prep"
   ]
  },
  {
   "cell_type": "markdown",
   "metadata": {},
   "source": [
    "Repartition the final datasets for better performance. `repartition` shuffles data to create partitions of roughly equal size, whereas `coalesce` combines partitions without shuffling. So even though coalesce finishes faster than repartition, subsequent operations are slower because dataset is skewed."
   ]
  },
  {
   "cell_type": "code",
   "execution_count": 36,
   "metadata": {},
   "outputs": [],
   "source": [
    "# Repartition if needed to speed up preprocessing\n",
    "if final_trn.rdd.getNumPartitions() > num_parallelism:\n",
    "    final_trn = final_trn.repartition(num_parallelism) \n",
    "    \n",
    "if final_tst.rdd.getNumPartitions() > num_parallelism:\n",
    "    final_tst = final_tst.repartition(num_parallelism) "
   ]
  },
  {
   "cell_type": "code",
   "execution_count": 37,
   "metadata": {},
   "outputs": [
    {
     "data": {
      "text/plain": [
       "16"
      ]
     },
     "execution_count": 37,
     "metadata": {},
     "output_type": "execute_result"
    },
    {
     "data": {
      "text/plain": [
       "16"
      ]
     },
     "execution_count": 37,
     "metadata": {},
     "output_type": "execute_result"
    }
   ],
   "source": [
    "# Print number of partitions\n",
    "final_trn.rdd.getNumPartitions()\n",
    "final_tst.rdd.getNumPartitions()"
   ]
  },
  {
   "cell_type": "markdown",
   "metadata": {},
   "source": [
    "Let's save the repartitioned datasets to disk for the sake of demonstrating how to read/write dataframes."
   ]
  },
  {
   "cell_type": "code",
   "execution_count": 38,
   "metadata": {},
   "outputs": [
    {
     "data": {
      "text/plain": [
       "'../../../trace-classifier-data/final_dataset/trn'"
      ]
     },
     "execution_count": 38,
     "metadata": {},
     "output_type": "execute_result"
    },
    {
     "data": {
      "text/plain": [
       "'../../../trace-classifier-data/final_dataset/tst'"
      ]
     },
     "execution_count": 38,
     "metadata": {},
     "output_type": "execute_result"
    }
   ],
   "source": [
    "dataset_dir = '../../../trace-classifier-data/final_dataset'\n",
    "write_dataframe(os.path.join(dataset_dir, 'trn'), final_trn, format='parquet')\n",
    "write_dataframe(os.path.join(dataset_dir, 'tst'), final_tst, format='parquet')"
   ]
  },
  {
   "cell_type": "markdown",
   "metadata": {},
   "source": [
    "## K-Fold CV"
   ]
  },
  {
   "cell_type": "code",
   "execution_count": 39,
   "metadata": {},
   "outputs": [],
   "source": [
    "# Load training configuration\n",
    "config = load_config('./config.json')"
   ]
  },
  {
   "cell_type": "markdown",
   "metadata": {},
   "source": [
    "Let's start by loading the data we saved in Section 3."
   ]
  },
  {
   "cell_type": "code",
   "execution_count": 40,
   "metadata": {},
   "outputs": [
    {
     "name": "stdout",
     "output_type": "stream",
     "text": [
      "+--------------------+-----------+--------+\n",
      "|         coordinates|   modality|  source|\n",
      "+--------------------+-----------+--------+\n",
      "|[[18.0680422, 59....|Not Driving|Source A|\n",
      "|[[2.3500393, 48.8...|Not Driving|Source A|\n",
      "|[[18.0725669, 59....|      Noise|Source A|\n",
      "+--------------------+-----------+--------+\n",
      "only showing top 3 rows\n",
      "\n"
     ]
    }
   ],
   "source": [
    "df = read_dataframe('../../../trace-classifier-data/final_dataset/trn', format='parquet')\n",
    "df.show(3)"
   ]
  },
  {
   "cell_type": "code",
   "execution_count": 41,
   "metadata": {},
   "outputs": [
    {
     "name": "stdout",
     "output_type": "stream",
     "text": [
      "+-----------+-----+-------+\n",
      "|   modality|count|percent|\n",
      "+-----------+-----+-------+\n",
      "|Not Driving| 7005|   26.0|\n",
      "|      Noise| 5135|   19.0|\n",
      "|    Driving|14341|   54.0|\n",
      "+-----------+-----+-------+\n",
      "\n"
     ]
    }
   ],
   "source": [
    "from pyspark.sql.functions import sum as vsum\n",
    "from pyspark.sql.functions import col\n",
    "from pyspark.sql.functions import round as vround\n",
    "from pyspark.sql.window import Window\n",
    "\n",
    "# Print trace count stats\n",
    "stats = df.groupby('modality').count()\n",
    "stats = stats.withColumn('percent', \n",
    "                         vround(col('count') / vsum('count').over(Window.partitionBy()) * 100)) \n",
    "stats.show()"
   ]
  },
  {
   "cell_type": "markdown",
   "metadata": {},
   "source": [
    "Notice how the dataset is imbalanced: over half the traces are `Driving`. To balance the dataset, we can\n",
    "- Option 1: downsample `Driving` traces (take a subset of `Driving`) – see Section 2.2 for an example on how to downsample a dataframe.\n",
    "- Option 2: updample `Not Driving` and `Noise` traces\n",
    "- Option 3: value `Driving` traces less by giving them a smaller weight during training. \n",
    "\n",
    "Let's go with option 3."
   ]
  },
  {
   "cell_type": "code",
   "execution_count": 42,
   "metadata": {},
   "outputs": [
    {
     "data": {
      "text/plain": [
       "{0: 1.2600999286224126, 1: 0.6155079841015271, 2: 1.718987341772152}"
      ]
     },
     "execution_count": 42,
     "metadata": {},
     "output_type": "execute_result"
    }
   ],
   "source": [
    "# Compute weight\n",
    "# (pyspark implementation of http://scikit-learn.org/stable/modules/generated/sklearn.utils.class_weight.compute_class_weight.html)\n",
    "klass_weights = compute_class_weight(df, 'modality')\n",
    "\n",
    "label_weights = {}\n",
    "for i, klass in enumerate(config['INPUT']['classes']):\n",
    "    label_weights[i] = klass_weights[klass]\n",
    "\n",
    "# Change the class weight in config\n",
    "config['TRAIN']['FIT']['class_weight'] = label_weights\n",
    "config['TRAIN']['FIT']['class_weight']"
   ]
  },
  {
   "cell_type": "markdown",
   "metadata": {},
   "source": [
    "Note that this just makes the training set *roughly* balanced and not strictly balanced. This is because during proprocessing, traces will be split into pieces and the model learns to predict the modality of these pieces. Since traces have different lengths, we don't know how many pieces there are for each modality until preprocessesing is done. (This is not hard to implement; I just didn't do it because I had no need for it.)\n",
    "\n",
    "Here's the high-level workflow for turning traces into model input (see `preprocessing.py` for more information):"
   ]
  },
  {
   "cell_type": "markdown",
   "metadata": {},
   "source": [
    "![image](./img/flowchart1.png)"
   ]
  },
  {
   "cell_type": "markdown",
   "metadata": {},
   "source": [
    "For *k*-fold cross validation, we need to repeat this *k* times... not cool. \n",
    "\n",
    "Notice traces in the validation set goes through the `include_id_and_label` and `preprocessing_part1` just like the traces in the training set; these steps are do not depend on the training set, unlike `preprocessing_part2`. Therefore, we can save some computation time by pushing down the train/val split to after `preprocessing_part1`:"
   ]
  },
  {
   "cell_type": "markdown",
   "metadata": {},
   "source": [
    "![flowchart2](./img/flowchart2.png)"
   ]
  },
  {
   "cell_type": "code",
   "execution_count": 43,
   "metadata": {},
   "outputs": [
    {
     "name": "stdout",
     "output_type": "stream",
     "text": [
      "+--------------------+--------+---+-----+----+\n",
      "|         coordinates|  source| id|label|fold|\n",
      "+--------------------+--------+---+-----+----+\n",
      "|[[18.0680422, 59....|Source A|  0|    0|   1|\n",
      "|[[2.3500393, 48.8...|Source A|  1|    0|   2|\n",
      "|[[18.0725669, 59....|Source A|  2|    2|   2|\n",
      "+--------------------+--------+---+-----+----+\n",
      "only showing top 3 rows\n",
      "\n"
     ]
    }
   ],
   "source": [
    "df2 = include_id_and_label(df, 'modality', config['INPUT']['classes'], config['TRAIN']['k_fold_cv'], seed=123)\n",
    "df2.show(3)"
   ]
  },
  {
   "cell_type": "code",
   "execution_count": 44,
   "metadata": {},
   "outputs": [
    {
     "name": "stdout",
     "output_type": "stream",
     "text": [
      "+--------+----+-----+---+--------+--------------------+\n",
      "|  source|fold|label| id|word_pos|                word|\n",
      "+--------+----+-----+---+--------+--------------------+\n",
      "|Source A|   1|    0|  0|       0|[[18.0680422, 59....|\n",
      "|Source A|   1|    0|  0|       1|[[18.0681326, 59....|\n",
      "|Source A|   1|    0|  0|       2|[[18.0681985, 59....|\n",
      "+--------+----+-----+---+--------+--------------------+\n",
      "only showing top 3 rows\n",
      "\n"
     ]
    }
   ],
   "source": [
    "df2 = preprocessing_part1(df2, config['PREPROCESS'])\n",
    "df2.show(3)"
   ]
  },
  {
   "cell_type": "code",
   "execution_count": 45,
   "metadata": {},
   "outputs": [],
   "source": [
    "# Cache for k-fold CV – note: this assumes the entire dataset can be fit into memeory\n",
    "df2.cache()\n",
    "df2.count();  # Use count to force Spark to execute a transformation.\n",
    "              # Trailing semicolon suppresses the printing of output."
   ]
  },
  {
   "cell_type": "code",
   "execution_count": 46,
   "metadata": {},
   "outputs": [
    {
     "name": "stdout",
     "output_type": "stream",
     "text": [
      "__________________________________________________________________________________________________\n",
      "Layer (type)                    Output Shape         Param #     Connected to                     \n",
      "==================================================================================================\n",
      "input (InputLayer)              (None, 15, 2)        0                                            \n",
      "__________________________________________________________________________________________________\n",
      "conv1d_1 (Conv1D)               (None, 9, 16)        240         input[0][0]                      \n",
      "__________________________________________________________________________________________________\n",
      "conv1d_2 (Conv1D)               (None, 8, 16)        272         input[0][0]                      \n",
      "__________________________________________________________________________________________________\n",
      "global_max_pooling1d_1 (GlobalM (None, 16)           0           conv1d_1[0][0]                   \n",
      "__________________________________________________________________________________________________\n",
      "global_max_pooling1d_2 (GlobalM (None, 16)           0           conv1d_2[0][0]                   \n",
      "__________________________________________________________________________________________________\n",
      "concatenate_1 (Concatenate)     (None, 32)           0           global_max_pooling1d_1[0][0]     \n",
      "                                                                 global_max_pooling1d_2[0][0]     \n",
      "__________________________________________________________________________________________________\n",
      "dropout_1 (Dropout)             (None, 32)           0           concatenate_1[0][0]              \n",
      "__________________________________________________________________________________________________\n",
      "dense_1 (Dense)                 (None, 12)           396         dropout_1[0][0]                  \n",
      "__________________________________________________________________________________________________\n",
      "activation_1 (Activation)       (None, 12)           0           dense_1[0][0]                    \n",
      "__________________________________________________________________________________________________\n",
      "dropout_2 (Dropout)             (None, 12)           0           activation_1[0][0]               \n",
      "__________________________________________________________________________________________________\n",
      "output (Dense)                  (None, 3)            39          dropout_2[0][0]                  \n",
      "==================================================================================================\n",
      "Total params: 947\n",
      "Trainable params: 947\n",
      "Non-trainable params: 0\n",
      "__________________________________________________________________________________________________\n",
      "\n",
      "\n",
      "**************************************************************************************************\n",
      "* MODEL NO. 0\n",
      "**************************************************************************************************\n",
      "Epoch 1/5\n",
      "1000/1000 [==============================] - 20s 20ms/step - loss: 0.8267 - sparse_categorical_accuracy: 0.6826 - val_loss: 0.6918 - val_sparse_categorical_accuracy: 0.7338\n",
      "\n",
      "Epoch 00001: val_sparse_categorical_accuracy improved from -inf to 0.73375, saving model to ../../model/20181011-1.h5\n",
      "Epoch 2/5\n",
      "1000/1000 [==============================] - 3s 3ms/step - loss: 0.8049 - sparse_categorical_accuracy: 0.6966 - val_loss: 0.7340 - val_sparse_categorical_accuracy: 0.7144\n",
      "\n",
      "Epoch 00002: val_sparse_categorical_accuracy did not improve from 0.73375\n",
      "Epoch 3/5\n",
      "1000/1000 [==============================] - 3s 3ms/step - loss: 0.7733 - sparse_categorical_accuracy: 0.7167 - val_loss: 0.6912 - val_sparse_categorical_accuracy: 0.7269\n",
      "\n",
      "Epoch 00003: val_sparse_categorical_accuracy did not improve from 0.73375\n",
      "Epoch 4/5\n",
      "1000/1000 [==============================] - 3s 3ms/step - loss: 0.7700 - sparse_categorical_accuracy: 0.7046 - val_loss: 0.6974 - val_sparse_categorical_accuracy: 0.7344\n",
      "\n",
      "Epoch 00004: val_sparse_categorical_accuracy improved from 0.73375 to 0.73438, saving model to ../../model/20181011-1.h5\n",
      "Epoch 5/5\n",
      "1000/1000 [==============================] - 3s 3ms/step - loss: 0.7492 - sparse_categorical_accuracy: 0.7177 - val_loss: 0.6866 - val_sparse_categorical_accuracy: 0.7431\n",
      "\n",
      "Epoch 00005: val_sparse_categorical_accuracy improved from 0.73438 to 0.74313, saving model to ../../model/20181011-1.h5\n",
      "Saved model architecture to ../../model/20181011-1.json\n",
      "\n",
      "\n",
      "**************************************************************************************************\n",
      "* MODEL NO. 1\n",
      "**************************************************************************************************\n",
      "Epoch 1/5\n",
      "1000/1000 [==============================] - 17s 17ms/step - loss: 0.8247 - sparse_categorical_accuracy: 0.6749 - val_loss: 0.7267 - val_sparse_categorical_accuracy: 0.7206\n",
      "\n",
      "Epoch 00001: val_sparse_categorical_accuracy improved from -inf to 0.72062, saving model to ../../model/20181011-2.h5\n",
      "Epoch 2/5\n",
      "1000/1000 [==============================] - 3s 3ms/step - loss: 0.8026 - sparse_categorical_accuracy: 0.6851 - val_loss: 0.7191 - val_sparse_categorical_accuracy: 0.7156\n",
      "\n",
      "Epoch 00002: val_sparse_categorical_accuracy did not improve from 0.72062\n",
      "Epoch 3/5\n",
      "1000/1000 [==============================] - 2s 2ms/step - loss: 0.7710 - sparse_categorical_accuracy: 0.7006 - val_loss: 0.6615 - val_sparse_categorical_accuracy: 0.7450\n",
      "\n",
      "Epoch 00003: val_sparse_categorical_accuracy improved from 0.72062 to 0.74500, saving model to ../../model/20181011-2.h5\n",
      "Epoch 4/5\n",
      "1000/1000 [==============================] - 3s 3ms/step - loss: 0.7821 - sparse_categorical_accuracy: 0.7016 - val_loss: 0.7002 - val_sparse_categorical_accuracy: 0.7206\n",
      "\n",
      "Epoch 00004: val_sparse_categorical_accuracy did not improve from 0.74500\n",
      "Epoch 5/5\n",
      "1000/1000 [==============================] - 3s 3ms/step - loss: 0.7631 - sparse_categorical_accuracy: 0.7077 - val_loss: 0.6931 - val_sparse_categorical_accuracy: 0.7306\n",
      "\n",
      "Epoch 00005: val_sparse_categorical_accuracy did not improve from 0.74500\n",
      "Saved model architecture to ../../model/20181011-2.json\n",
      "\n",
      "\n",
      "**************************************************************************************************\n",
      "* MODEL NO. 2\n",
      "**************************************************************************************************\n",
      "Epoch 1/5\n",
      "1000/1000 [==============================] - 13s 13ms/step - loss: 0.8207 - sparse_categorical_accuracy: 0.6849 - val_loss: 0.7524 - val_sparse_categorical_accuracy: 0.7131\n",
      "\n",
      "Epoch 00001: val_sparse_categorical_accuracy improved from -inf to 0.71313, saving model to ../../model/20181011-3.h5\n",
      "Epoch 2/5\n",
      "1000/1000 [==============================] - 3s 3ms/step - loss: 0.7900 - sparse_categorical_accuracy: 0.6936 - val_loss: 0.6741 - val_sparse_categorical_accuracy: 0.7569\n",
      "\n",
      "Epoch 00002: val_sparse_categorical_accuracy improved from 0.71313 to 0.75687, saving model to ../../model/20181011-3.h5\n",
      "Epoch 3/5\n",
      "1000/1000 [==============================] - 2s 2ms/step - loss: 0.7719 - sparse_categorical_accuracy: 0.7074 - val_loss: 0.6741 - val_sparse_categorical_accuracy: 0.7469\n",
      "\n",
      "Epoch 00003: val_sparse_categorical_accuracy did not improve from 0.75687\n",
      "Epoch 4/5\n",
      "1000/1000 [==============================] - 2s 2ms/step - loss: 0.7757 - sparse_categorical_accuracy: 0.7065 - val_loss: 0.6598 - val_sparse_categorical_accuracy: 0.7550\n",
      "\n",
      "Epoch 00004: val_sparse_categorical_accuracy did not improve from 0.75687\n",
      "Epoch 5/5\n",
      "1000/1000 [==============================] - 2s 2ms/step - loss: 0.7559 - sparse_categorical_accuracy: 0.7111 - val_loss: 0.7007 - val_sparse_categorical_accuracy: 0.7412\n",
      "\n",
      "Epoch 00005: val_sparse_categorical_accuracy did not improve from 0.75687\n",
      "Saved model architecture to ../../model/20181011-3.json\n"
     ]
    }
   ],
   "source": [
    "# Train *k* models \n",
    "# (Run 5 epochs only to keep the log short, as this notebook is meant to show how to use trace-classifier and \n",
    "# not how the model performs)\n",
    "model_performance = k_fold_CV(architecture, config, df2, n_epochs=5)"
   ]
  },
  {
   "cell_type": "code",
   "execution_count": 47,
   "metadata": {},
   "outputs": [
    {
     "data": {
      "text/plain": [
       "{'average': 0.7483333333333334,\n",
       " 'best': 0.756875,\n",
       " 'best_model': '20181011-3',\n",
       " 'best_model_vfold': 2,\n",
       " 'worst': 0.743125}"
      ]
     },
     "execution_count": 47,
     "metadata": {},
     "output_type": "execute_result"
    }
   ],
   "source": [
    "# Summarize performance\n",
    "summary = summarize_performance(model_performance)\n",
    "summary"
   ]
  },
  {
   "cell_type": "markdown",
   "metadata": {},
   "source": [
    "### Save Model"
   ]
  },
  {
   "cell_type": "code",
   "execution_count": 48,
   "metadata": {},
   "outputs": [],
   "source": [
    "# Clean session to speed up saving\n",
    "K.clear_session()\n",
    "tf.reset_default_graph()"
   ]
  },
  {
   "cell_type": "code",
   "execution_count": 49,
   "metadata": {},
   "outputs": [],
   "source": [
    "# Load the best model out of the *k* models\n",
    "model_to_freeze, metadata = load_model(config['SAVE']['saved_model_dir'], \n",
    "                                       summary['best_model'])"
   ]
  },
  {
   "cell_type": "code",
   "execution_count": 50,
   "metadata": {},
   "outputs": [
    {
     "name": "stdout",
     "output_type": "stream",
     "text": [
      "Saved compiled model to ../../model/sample_model.h5\n",
      "Appended metadata to ../../model/sample_model.h5\n",
      "Saved metadata to ../../model/sample_model_metadata.json\n",
      "Saved checkpoint to ../../model/byproducts/sample_model.ckpt\n",
      "Saved graph to ../../model/byproducts/sample_model.pbtxt\n",
      "INFO:tensorflow:Restoring parameters from ../../model/byproducts/sample_model.ckpt\n",
      "INFO:tensorflow:Froze 8 variables.\n",
      "INFO:tensorflow:Converted 8 variables to const ops.\n",
      "Saved frozen graph to ../../model/byproducts/sample_model_frozen.pb\n",
      "Saved optimized frozen graph to ../../model/sample_model_optimised_frozen.pb\n",
      "Removed byproducts in ../../model/byproducts\n"
     ]
    }
   ],
   "source": [
    "model_name = 'sample_model'\n",
    "save_model(model_to_freeze, \n",
    "           config['SAVE']['saved_model_dir'], \n",
    "           model_name, \n",
    "           metadata=metadata)"
   ]
  },
  {
   "cell_type": "markdown",
   "metadata": {},
   "source": [
    "## Tests"
   ]
  },
  {
   "cell_type": "markdown",
   "metadata": {},
   "source": [
    "### Load Model"
   ]
  },
  {
   "cell_type": "code",
   "execution_count": 51,
   "metadata": {},
   "outputs": [],
   "source": [
    "model_name = 'sample_model'"
   ]
  },
  {
   "cell_type": "code",
   "execution_count": 52,
   "metadata": {},
   "outputs": [],
   "source": [
    "model_path = os.path.join(config['SAVE']['saved_model_dir'], \n",
    "                          model_name + '_optimised_frozen.pb') "
   ]
  },
  {
   "cell_type": "code",
   "execution_count": 53,
   "metadata": {},
   "outputs": [],
   "source": [
    "metadata = load_model_metadata(model_path)\n",
    "assert metadata is not None"
   ]
  },
  {
   "cell_type": "markdown",
   "metadata": {},
   "source": [
    "### Load Test Data"
   ]
  },
  {
   "cell_type": "code",
   "execution_count": 54,
   "metadata": {},
   "outputs": [
    {
     "name": "stdout",
     "output_type": "stream",
     "text": [
      "+--------------------+-----------+--------+\n",
      "|         coordinates|   modality|  source|\n",
      "+--------------------+-----------+--------+\n",
      "|[[18.0678805, 59....|    Driving|Source A|\n",
      "|[[18.070929, 59.3...|Not Driving|Source A|\n",
      "|[[18.0713429, 59....|Not Driving|Source A|\n",
      "+--------------------+-----------+--------+\n",
      "only showing top 3 rows\n",
      "\n"
     ]
    }
   ],
   "source": [
    "# This is the test data saved in Section 3\n",
    "df_tst = read_dataframe('../../../trace-classifier-data/final_dataset/tst', \n",
    "                        format='parquet')\n",
    "df_tst.show(3)"
   ]
  },
  {
   "cell_type": "markdown",
   "metadata": {},
   "source": [
    "### Piece-wise Prediction Results"
   ]
  },
  {
   "cell_type": "code",
   "execution_count": 55,
   "metadata": {},
   "outputs": [
    {
     "name": "stdout",
     "output_type": "stream",
     "text": [
      "+--------------------+--------+--------+---+----------+--------------------+----------+-------------+\n",
      "|              probas|modality|  source| id|phrase_pos|              phrase|word_count|pred_modality|\n",
      "+--------------------+--------+--------+---+----------+--------------------+----------+-------------+\n",
      "|[0.15017952, 0.74...| Driving|Source A| 10|         6|[[-0.33, 0.36], [...|        15|      Driving|\n",
      "|[0.4973646, 0.288...| Driving|Source A| 23|         0|[[-0.18, 0.63], [...|        15|  Not Driving|\n",
      "|[0.24822879, 0.56...| Driving|Source A| 23|         4|[[-0.1, 0.76], [-...|        15|      Driving|\n",
      "+--------------------+--------+--------+---+----------+--------------------+----------+-------------+\n",
      "only showing top 3 rows\n",
      "\n"
     ]
    }
   ],
   "source": [
    "rdf = infer(df_tst, model_path, aggregate=False)\n",
    "rdf.show(3)"
   ]
  },
  {
   "cell_type": "code",
   "execution_count": 56,
   "metadata": {},
   "outputs": [
    {
     "data": {
      "text/plain": [
       "array([[1978,  363,   47],\n",
       "       [ 286, 2485,   12],\n",
       "       [ 256,  420,   65]])"
      ]
     },
     "execution_count": 56,
     "metadata": {},
     "output_type": "execute_result"
    }
   ],
   "source": [
    "phrase_cm = confusion_matrix(rdf, 'modality', 'pred_modality', metadata['classes'])\n",
    "phrase_cm"
   ]
  },
  {
   "cell_type": "code",
   "execution_count": 57,
   "metadata": {},
   "outputs": [
    {
     "data": {
      "image/png": "[encoded data removed]",
      "text/plain": [
       "<matplotlib.figure.Figure at 0x12919b4a8>"
      ]
     },
     "metadata": {},
     "output_type": "display_data"
    }
   ],
   "source": [
    "plot_confusion_matrix(phrase_cm, \n",
    "                      metadata['classes'], \n",
    "                      normalize='row', \n",
    "                      title='Piecewise Confusion Matrix (normalized by total per row)')"
   ]
  },
  {
   "cell_type": "code",
   "execution_count": 58,
   "metadata": {},
   "outputs": [
    {
     "data": {
      "image/png": "[encoded data removed]",
      "text/plain": [
       "<matplotlib.figure.Figure at 0x11f89a6a0>"
      ]
     },
     "metadata": {},
     "output_type": "display_data"
    }
   ],
   "source": [
    "plot_confusion_matrix(phrase_cm, \n",
    "                      metadata['classes'], \n",
    "                      normalize='col', \n",
    "                      title='Piecewise Confusion Matrix (normalized by total per col)')"
   ]
  },
  {
   "cell_type": "markdown",
   "metadata": {},
   "source": [
    "### Full-Trace Prediction Results"
   ]
  },
  {
   "cell_type": "code",
   "execution_count": 59,
   "metadata": {},
   "outputs": [
    {
     "name": "stdout",
     "output_type": "stream",
     "text": [
      "+-----------+--------------------+--------+--------+--------------------+-------------+\n",
      "|         id|         coordinates|modality|  source|              probas|pred_modality|\n",
      "+-----------+--------------------+--------+--------+--------------------+-------------+\n",
      "|17179869203|[[2.1816651, 41.3...| Driving|Source A|[0.11859928871945...|      Driving|\n",
      "|25769803776|[[18.0682688, 59....| Driving|Source A|[0.19512984789842...|      Driving|\n",
      "|42949672963|[[18.0610076, 59....| Driving|Source A|[0.01622189296977...|      Driving|\n",
      "+-----------+--------------------+--------+--------+--------------------+-------------+\n",
      "only showing top 3 rows\n",
      "\n"
     ]
    }
   ],
   "source": [
    "rdf = infer(df_tst, model_path, aggregate=True)\n",
    "rdf.show(3)"
   ]
  },
  {
   "cell_type": "code",
   "execution_count": 60,
   "metadata": {},
   "outputs": [
    {
     "data": {
      "text/plain": [
       "array([[606, 162,  11],\n",
       "       [ 18, 604,   0],\n",
       "       [143, 276,  35]])"
      ]
     },
     "execution_count": 60,
     "metadata": {},
     "output_type": "execute_result"
    }
   ],
   "source": [
    "sentence_cm = confusion_matrix(rdf, 'modality', 'pred_modality', metadata['classes'])\n",
    "sentence_cm"
   ]
  },
  {
   "cell_type": "code",
   "execution_count": 61,
   "metadata": {},
   "outputs": [
    {
     "data": {
      "image/png": "[encoded data removed]",
      "text/plain": [
       "<matplotlib.figure.Figure at 0x11e1b0fd0>"
      ]
     },
     "metadata": {},
     "output_type": "display_data"
    }
   ],
   "source": [
    "plot_confusion_matrix(sentence_cm, \n",
    "                      metadata['classes'], \n",
    "                      normalize='row', \n",
    "                      title='Full Trace Confusion Matrix (normalized by total per row)')"
   ]
  },
  {
   "cell_type": "code",
   "execution_count": 62,
   "metadata": {},
   "outputs": [
    {
     "data": {
      "image/png": "[encoded data removed]",
      "text/plain": [
       "<matplotlib.figure.Figure at 0x12159a2b0>"
      ]
     },
     "metadata": {},
     "output_type": "display_data"
    }
   ],
   "source": [
    "plot_confusion_matrix(sentence_cm, \n",
    "                      metadata['classes'], \n",
    "                      normalize='col', \n",
    "                      title='Full Trace Confusion Matrix (normalized by total per col)')"
   ]
  },
  {
   "cell_type": "markdown",
   "metadata": {},
   "source": [
    "# The End."
   ]
  }
 ],
 "metadata": {
  "kernelspec": {
   "display_name": "Python 3",
   "language": "python",
   "name": "python3"
  },
  "language_info": {
   "codemirror_mode": {
    "name": "ipython",
    "version": 3
   },
   "file_extension": ".py",
   "mimetype": "text/x-python",
   "name": "python",
   "nbconvert_exporter": "python",
   "pygments_lexer": "ipython3",
   "version": "3.6.4"
  },
  "toc": {
   "nav_menu": {},
   "number_sections": true,
   "sideBar": false,
   "skip_h1_title": true,
   "toc_cell": false,
   "toc_position": {},
   "toc_section_display": "block",
   "toc_window_display": false
  }
 },
 "nbformat": 4,
 "nbformat_minor": 2
}
